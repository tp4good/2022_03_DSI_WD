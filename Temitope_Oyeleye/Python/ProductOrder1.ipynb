{
    "metadata": {
        "kernelspec": {
            "name": "SQL",
            "display_name": "SQL",
            "language": "sql"
        },
        "language_info": {
            "name": "sql",
            "version": ""
        }
    },
    "nbformat_minor": 2,
    "nbformat": 4,
    "cells": [
        {
            "cell_type": "code",
            "source": [
                "SELECT \r\n",
                "TOP 18 CustID\r\n",
                ", CustCity\r\n",
                ", CustFirstName\r\n",
                ", CustLastName\r\n",
                ", CustZip\r\n",
                ",CustState\r\n",
                "FROM\r\n",
                "Customers\r\n",
                "WHERE CustID\r\n",
                "BETWEEN 6 \r\n",
                "AND 14"
            ],
            "metadata": {
                "azdata_cell_guid": "234b38a8-7d53-4f9d-8fc6-a2c368a13961",
                "tags": []
            },
            "outputs": [
                {
                    "output_type": "display_data",
                    "data": {
                        "text/html": "(9 rows affected)"
                    },
                    "metadata": {}
                },
                {
                    "output_type": "display_data",
                    "data": {
                        "text/html": "Total execution time: 00:00:00.082"
                    },
                    "metadata": {}
                },
                {
                    "output_type": "execute_result",
                    "execution_count": 1,
                    "data": {
                        "application/vnd.dataresource+json": {
                            "schema": {
                                "fields": [
                                    {
                                        "name": "CustID"
                                    },
                                    {
                                        "name": "CustCity"
                                    },
                                    {
                                        "name": "CustFirstName"
                                    },
                                    {
                                        "name": "CustLastName"
                                    },
                                    {
                                        "name": "CustZip"
                                    },
                                    {
                                        "name": "CustState"
                                    }
                                ]
                            },
                            "data": [
                                {
                                    "0": "6",
                                    "1": "Cincinnati",
                                    "2": "Kaitlin",
                                    "3": "Hostlery",
                                    "4": "45225",
                                    "5": "OH"
                                },
                                {
                                    "0": "7",
                                    "1": "Fairfield",
                                    "2": "Derek",
                                    "3": "Chaddick",
                                    "4": "52556",
                                    "5": "IA"
                                },
                                {
                                    "0": "8",
                                    "1": "Fresno",
                                    "2": "Deborah",
                                    "3": "Damien",
                                    "4": "93728",
                                    "5": "CA"
                                },
                                {
                                    "0": "9",
                                    "1": "Los Angeles",
                                    "2": "Karina",
                                    "3": "Lacy",
                                    "4": "90084",
                                    "5": "CA"
                                },
                                {
                                    "0": "10",
                                    "1": "Valencia",
                                    "2": "Kurt",
                                    "3": "Nickalus",
                                    "4": "91355",
                                    "5": "CA"
                                },
                                {
                                    "0": "11",
                                    "1": "Sacramento",
                                    "2": "Kelsey",
                                    "3": "Eulalia",
                                    "4": "95887",
                                    "5": "CA"
                                },
                                {
                                    "0": "12",
                                    "1": "Takoma Park",
                                    "2": "Anders",
                                    "3": "Rohansen",
                                    "4": "24512",
                                    "5": "MD"
                                },
                                {
                                    "0": "13",
                                    "1": "Fresno",
                                    "2": "Thalia",
                                    "3": "Neftaly",
                                    "4": "93711",
                                    "5": "CA"
                                },
                                {
                                    "0": "14",
                                    "1": "Fairfield",
                                    "2": "Gonzalo",
                                    "3": "Keeton",
                                    "4": "07004",
                                    "5": "NJ"
                                }
                            ]
                        },
                        "text/html": "<table><tr><th>CustID</th><th>CustCity</th><th>CustFirstName</th><th>CustLastName</th><th>CustZip</th><th>CustState</th></tr><tr><td>6</td><td>Cincinnati</td><td>Kaitlin</td><td>Hostlery</td><td>45225</td><td>OH</td></tr><tr><td>7</td><td>Fairfield</td><td>Derek</td><td>Chaddick</td><td>52556</td><td>IA</td></tr><tr><td>8</td><td>Fresno</td><td>Deborah</td><td>Damien</td><td>93728</td><td>CA</td></tr><tr><td>9</td><td>Los Angeles</td><td>Karina</td><td>Lacy</td><td>90084</td><td>CA</td></tr><tr><td>10</td><td>Valencia</td><td>Kurt</td><td>Nickalus</td><td>91355</td><td>CA</td></tr><tr><td>11</td><td>Sacramento</td><td>Kelsey</td><td>Eulalia</td><td>95887</td><td>CA</td></tr><tr><td>12</td><td>Takoma Park</td><td>Anders</td><td>Rohansen</td><td>24512</td><td>MD</td></tr><tr><td>13</td><td>Fresno</td><td>Thalia</td><td>Neftaly</td><td>93711</td><td>CA</td></tr><tr><td>14</td><td>Fairfield</td><td>Gonzalo</td><td>Keeton</td><td>07004</td><td>NJ</td></tr></table>"
                    },
                    "metadata": {}
                }
            ],
            "execution_count": 1
        }
    ]
}