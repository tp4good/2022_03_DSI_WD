{
    "metadata": {
        "kernelspec": {
            "name": "SQL",
            "display_name": "SQL",
            "language": "sql"
        },
        "language_info": {
            "name": "sql",
            "version": ""
        }
    },
    "nbformat_minor": 2,
    "nbformat": 4,
    "cells": [
        {
            "cell_type": "code",
            "source": [
                "SELECT"
            ],
            "metadata": {
                "azdata_cell_guid": "85671718-df5f-46bb-929f-ccf7f30d6290"
            },
            "outputs": [],
            "execution_count": null
        }
    ]
}